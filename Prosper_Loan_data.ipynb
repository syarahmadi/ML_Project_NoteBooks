{
  "nbformat": 4,
  "nbformat_minor": 0,
  "metadata": {

    "kernelspec": {
      "name": "python3",
      "display_name": "Python 3"
    }
  },
  "cells": [
    {
      "cell_type": "markdown",
      "metadata": {
        "id": "view-in-github",
        "colab_type": "text"
      },
      "source": [
        "<a href=\"https://colab.research.google.com/github/syarahmadi/Prosper-Loan-data/blob/master/exploration.ipynb\" target=\"_parent\"><img src=\"https://colab.research.google.com/assets/colab-badge.svg\" alt=\"Open In Colab\"/></a>"
      ]
    },
    {
      "cell_type": "markdown",
      "metadata": {
        "id": "zxDa5rqyMTDt",
        "colab_type": "text"
      },
      "source": [
        "\n",
        "\n",
        "**Loan Data from Prosper**"
      ]
    },
    {
      "cell_type": "markdown",
      "metadata": {
        "id": "7GJHcZhNMBv8",
        "colab_type": "text"
      },
      "source": [
        "**Introduction:**\n",
        "\n",
        "This data set contains 113,937 loans with 81 variables on each loan, including loan amount, borrower rate (or interest rate), current loan status, borrower income, and many others.\n",
        "\n",
        "This data dictionary explains the variables in the data set.\n",
        "You are not expected to explore all of the variables in the dataset! Focus your exploration on about 10-15 of them."
      ]
    },
    {
      "cell_type": "markdown",
      "metadata": {
        "id": "6HG7cLqHMIuE",
        "colab_type": "text"
      },
      "source": [
        "In this project, I am going to answer below questions:\n",
        "\n",
        "Have people  paied ontime Loan or not? (check Loan Status)\n",
        "\n",
        "\n",
        "Have loans been more high interest or low interest?\n",
        "\n",
        "\n",
        "Has having own home been affected on getting loan?\n",
        "\n",
        "How was Brrow rate affected by ListingCreationDate based on year for people have their own home or not have their own home?\n",
        "\n",
        "People with What kind of people have got more loan? how about less loan? \n",
        "\n",
        "Does income affect on getting loan?\n",
        "\n",
        "\n",
        "Dose AvailableBankcardCredit affect on BorrowerRate and getting amount of loan?\n",
        "\n",
        "What is affected on Loan Originial Amount?"
      ]
    },
    {
      "cell_type": "markdown",
      "metadata": {
        "id": "kZh_kqFaMZ_1",
        "colab_type": "text"
      },
      "source": [
        "\n",
        "\n",
        "1. Load data set\n",
        "2. exploratory\n"
      ]
    },
    {
      "cell_type": "code",
      "metadata": {
        "id": "7Yg2OkLfMrcP",
        "colab_type": "code",
        "colab": {}
      },
      "source": [
        "# import all packages\n",
        "import numpy as np\n",
        "import pandas as pd\n",
        "import seaborn as sb\n",
        "import matplotlib.pyplot as plt\n",
        "\n",
        "\n",
        "%matplotlib inline"
      ],
      "execution_count": null,
      "outputs": []
    },
    {
      "cell_type": "markdown",
      "metadata": {
        "id": "a86Ax8VVMta7",
        "colab_type": "text"
      },
      "source": [
        "# Load dataset"
      ]
    },
    {
      "cell_type": "code",
      "metadata": {
        "id": "YHbyQHjDC1Gt",
        "colab_type": "code",
        "colab": {}
      },
      "source": [
        "# load dataset\n",
        "url = 'https://s3.amazonaws.com/udacity-hosted-downloads/ud651/prosperLoanData.csv'\n",
        "df = pd.read_csv(url)\n"
      ],
      "execution_count": null,
      "outputs": []
    },
    {
      "cell_type": "markdown",
      "metadata": {
        "id": "JpvrOlDmM1wK",
        "colab_type": "text"
      },
      "source": [
        "# Exploratory dataset"
      ]
    },
    {
      "cell_type": "code",
      "metadata": {
        "id": "839OfWWLDVyz",
        "colab_type": "code",
        "colab": {
          "base_uri": "https://localhost:8080/",
          "height": 355
        },
        "outputId": "1cc58f25-85f3-4cb6-91f7-26e34a12bd65"
      },
      "source": [
        "# Return the first 5 rows\n",
        "df.head(5)\n"
      ],
      "execution_count": null,
      "outputs": [
        {
          "output_type": "execute_result",
          "data": {
            "text/html": [
              "<div>\n",
              "<style scoped>\n",
              "    .dataframe tbody tr th:only-of-type {\n",
              "        vertical-align: middle;\n",
              "    }\n",
              "\n",
              "    .dataframe tbody tr th {\n",
              "        vertical-align: top;\n",
              "    }\n",
              "\n",
              "    .dataframe thead th {\n",
              "        text-align: right;\n",
              "    }\n",
              "</style>\n",
              "<table border=\"1\" class=\"dataframe\">\n",
              "  <thead>\n",
              "    <tr style=\"text-align: right;\">\n",
              "      <th></th>\n",
              "      <th>ListingKey</th>\n",
              "      <th>ListingNumber</th>\n",
              "      <th>ListingCreationDate</th>\n",
              "      <th>CreditGrade</th>\n",
              "      <th>Term</th>\n",
              "      <th>LoanStatus</th>\n",
              "      <th>ClosedDate</th>\n",
              "      <th>BorrowerAPR</th>\n",
              "      <th>BorrowerRate</th>\n",
              "      <th>LenderYield</th>\n",
              "      <th>EstimatedEffectiveYield</th>\n",
              "      <th>EstimatedLoss</th>\n",
              "      <th>EstimatedReturn</th>\n",
              "      <th>ProsperRating (numeric)</th>\n",
              "      <th>ProsperRating (Alpha)</th>\n",
              "      <th>ProsperScore</th>\n",
              "      <th>ListingCategory (numeric)</th>\n",
              "      <th>BorrowerState</th>\n",
              "      <th>Occupation</th>\n",
              "      <th>EmploymentStatus</th>\n",
              "      <th>EmploymentStatusDuration</th>\n",
              "      <th>IsBorrowerHomeowner</th>\n",
              "      <th>CurrentlyInGroup</th>\n",
              "      <th>GroupKey</th>\n",
              "      <th>DateCreditPulled</th>\n",
              "      <th>CreditScoreRangeLower</th>\n",
              "      <th>CreditScoreRangeUpper</th>\n",
              "      <th>FirstRecordedCreditLine</th>\n",
              "      <th>CurrentCreditLines</th>\n",
              "      <th>OpenCreditLines</th>\n",
              "      <th>TotalCreditLinespast7years</th>\n",
              "      <th>OpenRevolvingAccounts</th>\n",
              "      <th>OpenRevolvingMonthlyPayment</th>\n",
              "      <th>InquiriesLast6Months</th>\n",
              "      <th>TotalInquiries</th>\n",
              "      <th>CurrentDelinquencies</th>\n",
              "      <th>AmountDelinquent</th>\n",
              "      <th>DelinquenciesLast7Years</th>\n",
              "      <th>PublicRecordsLast10Years</th>\n",
              "      <th>PublicRecordsLast12Months</th>\n",
              "      <th>...</th>\n",
              "      <th>BankcardUtilization</th>\n",
              "      <th>AvailableBankcardCredit</th>\n",
              "      <th>TotalTrades</th>\n",
              "      <th>TradesNeverDelinquent (percentage)</th>\n",
              "      <th>TradesOpenedLast6Months</th>\n",
              "      <th>DebtToIncomeRatio</th>\n",
              "      <th>IncomeRange</th>\n",
              "      <th>IncomeVerifiable</th>\n",
              "      <th>StatedMonthlyIncome</th>\n",
              "      <th>LoanKey</th>\n",
              "      <th>TotalProsperLoans</th>\n",
              "      <th>TotalProsperPaymentsBilled</th>\n",
              "      <th>OnTimeProsperPayments</th>\n",
              "      <th>ProsperPaymentsLessThanOneMonthLate</th>\n",
              "      <th>ProsperPaymentsOneMonthPlusLate</th>\n",
              "      <th>ProsperPrincipalBorrowed</th>\n",
              "      <th>ProsperPrincipalOutstanding</th>\n",
              "      <th>ScorexChangeAtTimeOfListing</th>\n",
              "      <th>LoanCurrentDaysDelinquent</th>\n",
              "      <th>LoanFirstDefaultedCycleNumber</th>\n",
              "      <th>LoanMonthsSinceOrigination</th>\n",
              "      <th>LoanNumber</th>\n",
              "      <th>LoanOriginalAmount</th>\n",
              "      <th>LoanOriginationDate</th>\n",
              "      <th>LoanOriginationQuarter</th>\n",
              "      <th>MemberKey</th>\n",
              "      <th>MonthlyLoanPayment</th>\n",
              "      <th>LP_CustomerPayments</th>\n",
              "      <th>LP_CustomerPrincipalPayments</th>\n",
              "      <th>LP_InterestandFees</th>\n",
              "      <th>LP_ServiceFees</th>\n",
              "      <th>LP_CollectionFees</th>\n",
              "      <th>LP_GrossPrincipalLoss</th>\n",
              "      <th>LP_NetPrincipalLoss</th>\n",
              "      <th>LP_NonPrincipalRecoverypayments</th>\n",
              "      <th>PercentFunded</th>\n",
              "      <th>Recommendations</th>\n",
              "      <th>InvestmentFromFriendsCount</th>\n",
              "      <th>InvestmentFromFriendsAmount</th>\n",
              "      <th>Investors</th>\n",
              "    </tr>\n",
              "  </thead>\n",
              "  <tbody>\n",
              "    <tr>\n",
              "      <th>0</th>\n",
              "      <td>1021339766868145413AB3B</td>\n",
              "      <td>193129</td>\n",
              "      <td>2007-08-26 19:09:29.263000000</td>\n",
              "      <td>C</td>\n",
              "      <td>36</td>\n",
              "      <td>Completed</td>\n",
              "      <td>2009-08-14 00:00:00</td>\n",
              "      <td>0.16516</td>\n",
              "      <td>0.1580</td>\n",
              "      <td>0.1380</td>\n",
              "      <td>NaN</td>\n",
              "      <td>NaN</td>\n",
              "      <td>NaN</td>\n",
              "      <td>NaN</td>\n",
              "      <td>NaN</td>\n",
              "      <td>NaN</td>\n",
              "      <td>0</td>\n",
              "      <td>CO</td>\n",
              "      <td>Other</td>\n",
              "      <td>Self-employed</td>\n",
              "      <td>2.0</td>\n",
              "      <td>True</td>\n",
              "      <td>True</td>\n",
              "      <td>NaN</td>\n",
              "      <td>2007-08-26 18:41:46.780000000</td>\n",
              "      <td>640.0</td>\n",
              "      <td>659.0</td>\n",
              "      <td>2001-10-11 00:00:00</td>\n",
              "      <td>5.0</td>\n",
              "      <td>4.0</td>\n",
              "      <td>12.0</td>\n",
              "      <td>1</td>\n",
              "      <td>24.0</td>\n",
              "      <td>3.0</td>\n",
              "      <td>3.0</td>\n",
              "      <td>2.0</td>\n",
              "      <td>472.0</td>\n",
              "      <td>4.0</td>\n",
              "      <td>0.0</td>\n",
              "      <td>0.0</td>\n",
              "      <td>...</td>\n",
              "      <td>0.00</td>\n",
              "      <td>1500.0</td>\n",
              "      <td>11.0</td>\n",
              "      <td>0.81</td>\n",
              "      <td>0.0</td>\n",
              "      <td>0.17</td>\n",
              "      <td>$25,000-49,999</td>\n",
              "      <td>True</td>\n",
              "      <td>3083.333333</td>\n",
              "      <td>E33A3400205839220442E84</td>\n",
              "      <td>NaN</td>\n",
              "      <td>NaN</td>\n",
              "      <td>NaN</td>\n",
              "      <td>NaN</td>\n",
              "      <td>NaN</td>\n",
              "      <td>NaN</td>\n",
              "      <td>NaN</td>\n",
              "      <td>NaN</td>\n",
              "      <td>0</td>\n",
              "      <td>NaN</td>\n",
              "      <td>78</td>\n",
              "      <td>19141</td>\n",
              "      <td>9425</td>\n",
              "      <td>2007-09-12 00:00:00</td>\n",
              "      <td>Q3 2007</td>\n",
              "      <td>1F3E3376408759268057EDA</td>\n",
              "      <td>330.43</td>\n",
              "      <td>11396.14</td>\n",
              "      <td>9425.00</td>\n",
              "      <td>1971.14</td>\n",
              "      <td>-133.18</td>\n",
              "      <td>0.0</td>\n",
              "      <td>0.0</td>\n",
              "      <td>0.0</td>\n",
              "      <td>0.0</td>\n",
              "      <td>1.0</td>\n",
              "      <td>0</td>\n",
              "      <td>0</td>\n",
              "      <td>0.0</td>\n",
              "      <td>258</td>\n",
              "    </tr>\n",
              "    <tr>\n",
              "      <th>1</th>\n",
              "      <td>10273602499503308B223C1</td>\n",
              "      <td>1209647</td>\n",
              "      <td>2014-02-27 08:28:07.900000000</td>\n",
              "      <td>NaN</td>\n",
              "      <td>36</td>\n",
              "      <td>Current</td>\n",
              "      <td>NaN</td>\n",
              "      <td>0.12016</td>\n",
              "      <td>0.0920</td>\n",
              "      <td>0.0820</td>\n",
              "      <td>0.07960</td>\n",
              "      <td>0.0249</td>\n",
              "      <td>0.05470</td>\n",
              "      <td>6.0</td>\n",
              "      <td>A</td>\n",
              "      <td>7.0</td>\n",
              "      <td>2</td>\n",
              "      <td>CO</td>\n",
              "      <td>Professional</td>\n",
              "      <td>Employed</td>\n",
              "      <td>44.0</td>\n",
              "      <td>False</td>\n",
              "      <td>False</td>\n",
              "      <td>NaN</td>\n",
              "      <td>2014-02-27 08:28:14</td>\n",
              "      <td>680.0</td>\n",
              "      <td>699.0</td>\n",
              "      <td>1996-03-18 00:00:00</td>\n",
              "      <td>14.0</td>\n",
              "      <td>14.0</td>\n",
              "      <td>29.0</td>\n",
              "      <td>13</td>\n",
              "      <td>389.0</td>\n",
              "      <td>3.0</td>\n",
              "      <td>5.0</td>\n",
              "      <td>0.0</td>\n",
              "      <td>0.0</td>\n",
              "      <td>0.0</td>\n",
              "      <td>1.0</td>\n",
              "      <td>0.0</td>\n",
              "      <td>...</td>\n",
              "      <td>0.21</td>\n",
              "      <td>10266.0</td>\n",
              "      <td>29.0</td>\n",
              "      <td>1.00</td>\n",
              "      <td>2.0</td>\n",
              "      <td>0.18</td>\n",
              "      <td>$50,000-74,999</td>\n",
              "      <td>True</td>\n",
              "      <td>6125.000000</td>\n",
              "      <td>9E3B37071505919926B1D82</td>\n",
              "      <td>NaN</td>\n",
              "      <td>NaN</td>\n",
              "      <td>NaN</td>\n",
              "      <td>NaN</td>\n",
              "      <td>NaN</td>\n",
              "      <td>NaN</td>\n",
              "      <td>NaN</td>\n",
              "      <td>NaN</td>\n",
              "      <td>0</td>\n",
              "      <td>NaN</td>\n",
              "      <td>0</td>\n",
              "      <td>134815</td>\n",
              "      <td>10000</td>\n",
              "      <td>2014-03-03 00:00:00</td>\n",
              "      <td>Q1 2014</td>\n",
              "      <td>1D13370546739025387B2F4</td>\n",
              "      <td>318.93</td>\n",
              "      <td>0.00</td>\n",
              "      <td>0.00</td>\n",
              "      <td>0.00</td>\n",
              "      <td>0.00</td>\n",
              "      <td>0.0</td>\n",
              "      <td>0.0</td>\n",
              "      <td>0.0</td>\n",
              "      <td>0.0</td>\n",
              "      <td>1.0</td>\n",
              "      <td>0</td>\n",
              "      <td>0</td>\n",
              "      <td>0.0</td>\n",
              "      <td>1</td>\n",
              "    </tr>\n",
              "    <tr>\n",
              "      <th>2</th>\n",
              "      <td>0EE9337825851032864889A</td>\n",
              "      <td>81716</td>\n",
              "      <td>2007-01-05 15:00:47.090000000</td>\n",
              "      <td>HR</td>\n",
              "      <td>36</td>\n",
              "      <td>Completed</td>\n",
              "      <td>2009-12-17 00:00:00</td>\n",
              "      <td>0.28269</td>\n",
              "      <td>0.2750</td>\n",
              "      <td>0.2400</td>\n",
              "      <td>NaN</td>\n",
              "      <td>NaN</td>\n",
              "      <td>NaN</td>\n",
              "      <td>NaN</td>\n",
              "      <td>NaN</td>\n",
              "      <td>NaN</td>\n",
              "      <td>0</td>\n",
              "      <td>GA</td>\n",
              "      <td>Other</td>\n",
              "      <td>Not available</td>\n",
              "      <td>NaN</td>\n",
              "      <td>False</td>\n",
              "      <td>True</td>\n",
              "      <td>783C3371218786870A73D20</td>\n",
              "      <td>2007-01-02 14:09:10.060000000</td>\n",
              "      <td>480.0</td>\n",
              "      <td>499.0</td>\n",
              "      <td>2002-07-27 00:00:00</td>\n",
              "      <td>NaN</td>\n",
              "      <td>NaN</td>\n",
              "      <td>3.0</td>\n",
              "      <td>0</td>\n",
              "      <td>0.0</td>\n",
              "      <td>0.0</td>\n",
              "      <td>1.0</td>\n",
              "      <td>1.0</td>\n",
              "      <td>NaN</td>\n",
              "      <td>0.0</td>\n",
              "      <td>0.0</td>\n",
              "      <td>NaN</td>\n",
              "      <td>...</td>\n",
              "      <td>NaN</td>\n",
              "      <td>NaN</td>\n",
              "      <td>NaN</td>\n",
              "      <td>NaN</td>\n",
              "      <td>NaN</td>\n",
              "      <td>0.06</td>\n",
              "      <td>Not displayed</td>\n",
              "      <td>True</td>\n",
              "      <td>2083.333333</td>\n",
              "      <td>6954337960046817851BCB2</td>\n",
              "      <td>NaN</td>\n",
              "      <td>NaN</td>\n",
              "      <td>NaN</td>\n",
              "      <td>NaN</td>\n",
              "      <td>NaN</td>\n",
              "      <td>NaN</td>\n",
              "      <td>NaN</td>\n",
              "      <td>NaN</td>\n",
              "      <td>0</td>\n",
              "      <td>NaN</td>\n",
              "      <td>86</td>\n",
              "      <td>6466</td>\n",
              "      <td>3001</td>\n",
              "      <td>2007-01-17 00:00:00</td>\n",
              "      <td>Q1 2007</td>\n",
              "      <td>5F7033715035555618FA612</td>\n",
              "      <td>123.32</td>\n",
              "      <td>4186.63</td>\n",
              "      <td>3001.00</td>\n",
              "      <td>1185.63</td>\n",
              "      <td>-24.20</td>\n",
              "      <td>0.0</td>\n",
              "      <td>0.0</td>\n",
              "      <td>0.0</td>\n",
              "      <td>0.0</td>\n",
              "      <td>1.0</td>\n",
              "      <td>0</td>\n",
              "      <td>0</td>\n",
              "      <td>0.0</td>\n",
              "      <td>41</td>\n",
              "    </tr>\n",
              "    <tr>\n",
              "      <th>3</th>\n",
              "      <td>0EF5356002482715299901A</td>\n",
              "      <td>658116</td>\n",
              "      <td>2012-10-22 11:02:35.010000000</td>\n",
              "      <td>NaN</td>\n",
              "      <td>36</td>\n",
              "      <td>Current</td>\n",
              "      <td>NaN</td>\n",
              "      <td>0.12528</td>\n",
              "      <td>0.0974</td>\n",
              "      <td>0.0874</td>\n",
              "      <td>0.08490</td>\n",
              "      <td>0.0249</td>\n",
              "      <td>0.06000</td>\n",
              "      <td>6.0</td>\n",
              "      <td>A</td>\n",
              "      <td>9.0</td>\n",
              "      <td>16</td>\n",
              "      <td>GA</td>\n",
              "      <td>Skilled Labor</td>\n",
              "      <td>Employed</td>\n",
              "      <td>113.0</td>\n",
              "      <td>True</td>\n",
              "      <td>False</td>\n",
              "      <td>NaN</td>\n",
              "      <td>2012-10-22 11:02:32</td>\n",
              "      <td>800.0</td>\n",
              "      <td>819.0</td>\n",
              "      <td>1983-02-28 00:00:00</td>\n",
              "      <td>5.0</td>\n",
              "      <td>5.0</td>\n",
              "      <td>29.0</td>\n",
              "      <td>7</td>\n",
              "      <td>115.0</td>\n",
              "      <td>0.0</td>\n",
              "      <td>1.0</td>\n",
              "      <td>4.0</td>\n",
              "      <td>10056.0</td>\n",
              "      <td>14.0</td>\n",
              "      <td>0.0</td>\n",
              "      <td>0.0</td>\n",
              "      <td>...</td>\n",
              "      <td>0.04</td>\n",
              "      <td>30754.0</td>\n",
              "      <td>26.0</td>\n",
              "      <td>0.76</td>\n",
              "      <td>0.0</td>\n",
              "      <td>0.15</td>\n",
              "      <td>$25,000-49,999</td>\n",
              "      <td>True</td>\n",
              "      <td>2875.000000</td>\n",
              "      <td>A0393664465886295619C51</td>\n",
              "      <td>NaN</td>\n",
              "      <td>NaN</td>\n",
              "      <td>NaN</td>\n",
              "      <td>NaN</td>\n",
              "      <td>NaN</td>\n",
              "      <td>NaN</td>\n",
              "      <td>NaN</td>\n",
              "      <td>NaN</td>\n",
              "      <td>0</td>\n",
              "      <td>NaN</td>\n",
              "      <td>16</td>\n",
              "      <td>77296</td>\n",
              "      <td>10000</td>\n",
              "      <td>2012-11-01 00:00:00</td>\n",
              "      <td>Q4 2012</td>\n",
              "      <td>9ADE356069835475068C6D2</td>\n",
              "      <td>321.45</td>\n",
              "      <td>5143.20</td>\n",
              "      <td>4091.09</td>\n",
              "      <td>1052.11</td>\n",
              "      <td>-108.01</td>\n",
              "      <td>0.0</td>\n",
              "      <td>0.0</td>\n",
              "      <td>0.0</td>\n",
              "      <td>0.0</td>\n",
              "      <td>1.0</td>\n",
              "      <td>0</td>\n",
              "      <td>0</td>\n",
              "      <td>0.0</td>\n",
              "      <td>158</td>\n",
              "    </tr>\n",
              "    <tr>\n",
              "      <th>4</th>\n",
              "      <td>0F023589499656230C5E3E2</td>\n",
              "      <td>909464</td>\n",
              "      <td>2013-09-14 18:38:39.097000000</td>\n",
              "      <td>NaN</td>\n",
              "      <td>36</td>\n",
              "      <td>Current</td>\n",
              "      <td>NaN</td>\n",
              "      <td>0.24614</td>\n",
              "      <td>0.2085</td>\n",
              "      <td>0.1985</td>\n",
              "      <td>0.18316</td>\n",
              "      <td>0.0925</td>\n",
              "      <td>0.09066</td>\n",
              "      <td>3.0</td>\n",
              "      <td>D</td>\n",
              "      <td>4.0</td>\n",
              "      <td>2</td>\n",
              "      <td>MN</td>\n",
              "      <td>Executive</td>\n",
              "      <td>Employed</td>\n",
              "      <td>44.0</td>\n",
              "      <td>True</td>\n",
              "      <td>False</td>\n",
              "      <td>NaN</td>\n",
              "      <td>2013-09-14 18:38:44</td>\n",
              "      <td>680.0</td>\n",
              "      <td>699.0</td>\n",
              "      <td>2004-02-20 00:00:00</td>\n",
              "      <td>19.0</td>\n",
              "      <td>19.0</td>\n",
              "      <td>49.0</td>\n",
              "      <td>6</td>\n",
              "      <td>220.0</td>\n",
              "      <td>1.0</td>\n",
              "      <td>9.0</td>\n",
              "      <td>0.0</td>\n",
              "      <td>0.0</td>\n",
              "      <td>0.0</td>\n",
              "      <td>0.0</td>\n",
              "      <td>0.0</td>\n",
              "      <td>...</td>\n",
              "      <td>0.81</td>\n",
              "      <td>695.0</td>\n",
              "      <td>39.0</td>\n",
              "      <td>0.95</td>\n",
              "      <td>2.0</td>\n",
              "      <td>0.26</td>\n",
              "      <td>$100,000+</td>\n",
              "      <td>True</td>\n",
              "      <td>9583.333333</td>\n",
              "      <td>A180369302188889200689E</td>\n",
              "      <td>1.0</td>\n",
              "      <td>11.0</td>\n",
              "      <td>11.0</td>\n",
              "      <td>0.0</td>\n",
              "      <td>0.0</td>\n",
              "      <td>11000.0</td>\n",
              "      <td>9947.9</td>\n",
              "      <td>NaN</td>\n",
              "      <td>0</td>\n",
              "      <td>NaN</td>\n",
              "      <td>6</td>\n",
              "      <td>102670</td>\n",
              "      <td>15000</td>\n",
              "      <td>2013-09-20 00:00:00</td>\n",
              "      <td>Q3 2013</td>\n",
              "      <td>36CE356043264555721F06C</td>\n",
              "      <td>563.97</td>\n",
              "      <td>2819.85</td>\n",
              "      <td>1563.22</td>\n",
              "      <td>1256.63</td>\n",
              "      <td>-60.27</td>\n",
              "      <td>0.0</td>\n",
              "      <td>0.0</td>\n",
              "      <td>0.0</td>\n",
              "      <td>0.0</td>\n",
              "      <td>1.0</td>\n",
              "      <td>0</td>\n",
              "      <td>0</td>\n",
              "      <td>0.0</td>\n",
              "      <td>20</td>\n",
              "    </tr>\n",
              "  </tbody>\n",
              "</table>\n",
              "<p>5 rows × 81 columns</p>\n",
              "</div>"
            ],
            "text/plain": [
              "                ListingKey  ...  Investors\n",
              "0  1021339766868145413AB3B  ...        258\n",
              "1  10273602499503308B223C1  ...          1\n",
              "2  0EE9337825851032864889A  ...         41\n",
              "3  0EF5356002482715299901A  ...        158\n",
              "4  0F023589499656230C5E3E2  ...         20\n",
              "\n",
              "[5 rows x 81 columns]"
            ]
          },
          "metadata": {
            "tags": []
          },
          "execution_count": 110
        }
      ]
    },
    {
      "cell_type": "code",
      "metadata": {
        "id": "9mdpvnTeDksk",
        "colab_type": "code",
        "colab": {
          "base_uri": "https://localhost:8080/",
          "height": 34
        },
        "outputId": "0493b15a-17bb-4ab5-e62b-7b008df82104"
      },
      "source": [
        "# Return shape of dataset\n",
        "df.shape"
      ],
      "execution_count": null,
      "outputs": [
        {
          "output_type": "execute_result",
          "data": {
            "text/plain": [
              "(113937, 81)"
            ]
          },
          "metadata": {
            "tags": []
          },
          "execution_count": 111
        }
      ]
    },
    {
      "cell_type": "code",
      "metadata": {
        "id": "a0owwLnADrmR",
        "colab_type": "code",
        "colab": {
          "base_uri": "https://localhost:8080/",
          "height": 1000
        },
        "outputId": "f740d135-9923-4743-cce8-8a9ac8a8f42f"
      },
      "source": [
        "# return iformation about dataset\n",
        "df.info()"
      ],
      "execution_count": null,
      "outputs": [
        {
          "output_type": "stream",
          "text": [
            "<class 'pandas.core.frame.DataFrame'>\n",
            "RangeIndex: 113937 entries, 0 to 113936\n",
            "Data columns (total 81 columns):\n",
            " #   Column                               Non-Null Count   Dtype  \n",
            "---  ------                               --------------   -----  \n",
            " 0   ListingKey                           113937 non-null  object \n",
            " 1   ListingNumber                        113937 non-null  int64  \n",
            " 2   ListingCreationDate                  113937 non-null  object \n",
            " 3   CreditGrade                          28953 non-null   object \n",
            " 4   Term                                 113937 non-null  int64  \n",
            " 5   LoanStatus                           113937 non-null  object \n",
            " 6   ClosedDate                           55089 non-null   object \n",
            " 7   BorrowerAPR                          113912 non-null  float64\n",
            " 8   BorrowerRate                         113937 non-null  float64\n",
            " 9   LenderYield                          113937 non-null  float64\n",
            " 10  EstimatedEffectiveYield              84853 non-null   float64\n",
            " 11  EstimatedLoss                        84853 non-null   float64\n",
            " 12  EstimatedReturn                      84853 non-null   float64\n",
            " 13  ProsperRating (numeric)              84853 non-null   float64\n",
            " 14  ProsperRating (Alpha)                84853 non-null   object \n",
            " 15  ProsperScore                         84853 non-null   float64\n",
            " 16  ListingCategory (numeric)            113937 non-null  int64  \n",
            " 17  BorrowerState                        108422 non-null  object \n",
            " 18  Occupation                           110349 non-null  object \n",
            " 19  EmploymentStatus                     111682 non-null  object \n",
            " 20  EmploymentStatusDuration             106312 non-null  float64\n",
            " 21  IsBorrowerHomeowner                  113937 non-null  bool   \n",
            " 22  CurrentlyInGroup                     113937 non-null  bool   \n",
            " 23  GroupKey                             13341 non-null   object \n",
            " 24  DateCreditPulled                     113937 non-null  object \n",
            " 25  CreditScoreRangeLower                113346 non-null  float64\n",
            " 26  CreditScoreRangeUpper                113346 non-null  float64\n",
            " 27  FirstRecordedCreditLine              113240 non-null  object \n",
            " 28  CurrentCreditLines                   106333 non-null  float64\n",
            " 29  OpenCreditLines                      106333 non-null  float64\n",
            " 30  TotalCreditLinespast7years           113240 non-null  float64\n",
            " 31  OpenRevolvingAccounts                113937 non-null  int64  \n",
            " 32  OpenRevolvingMonthlyPayment          113937 non-null  float64\n",
            " 33  InquiriesLast6Months                 113240 non-null  float64\n",
            " 34  TotalInquiries                       112778 non-null  float64\n",
            " 35  CurrentDelinquencies                 113240 non-null  float64\n",
            " 36  AmountDelinquent                     106315 non-null  float64\n",
            " 37  DelinquenciesLast7Years              112947 non-null  float64\n",
            " 38  PublicRecordsLast10Years             113240 non-null  float64\n",
            " 39  PublicRecordsLast12Months            106333 non-null  float64\n",
            " 40  RevolvingCreditBalance               106333 non-null  float64\n",
            " 41  BankcardUtilization                  106333 non-null  float64\n",
            " 42  AvailableBankcardCredit              106393 non-null  float64\n",
            " 43  TotalTrades                          106393 non-null  float64\n",
            " 44  TradesNeverDelinquent (percentage)   106393 non-null  float64\n",
            " 45  TradesOpenedLast6Months              106393 non-null  float64\n",
            " 46  DebtToIncomeRatio                    105383 non-null  float64\n",
            " 47  IncomeRange                          113937 non-null  object \n",
            " 48  IncomeVerifiable                     113937 non-null  bool   \n",
            " 49  StatedMonthlyIncome                  113937 non-null  float64\n",
            " 50  LoanKey                              113937 non-null  object \n",
            " 51  TotalProsperLoans                    22085 non-null   float64\n",
            " 52  TotalProsperPaymentsBilled           22085 non-null   float64\n",
            " 53  OnTimeProsperPayments                22085 non-null   float64\n",
            " 54  ProsperPaymentsLessThanOneMonthLate  22085 non-null   float64\n",
            " 55  ProsperPaymentsOneMonthPlusLate      22085 non-null   float64\n",
            " 56  ProsperPrincipalBorrowed             22085 non-null   float64\n",
            " 57  ProsperPrincipalOutstanding          22085 non-null   float64\n",
            " 58  ScorexChangeAtTimeOfListing          18928 non-null   float64\n",
            " 59  LoanCurrentDaysDelinquent            113937 non-null  int64  \n",
            " 60  LoanFirstDefaultedCycleNumber        16952 non-null   float64\n",
            " 61  LoanMonthsSinceOrigination           113937 non-null  int64  \n",
            " 62  LoanNumber                           113937 non-null  int64  \n",
            " 63  LoanOriginalAmount                   113937 non-null  int64  \n",
            " 64  LoanOriginationDate                  113937 non-null  object \n",
            " 65  LoanOriginationQuarter               113937 non-null  object \n",
            " 66  MemberKey                            113937 non-null  object \n",
            " 67  MonthlyLoanPayment                   113937 non-null  float64\n",
            " 68  LP_CustomerPayments                  113937 non-null  float64\n",
            " 69  LP_CustomerPrincipalPayments         113937 non-null  float64\n",
            " 70  LP_InterestandFees                   113937 non-null  float64\n",
            " 71  LP_ServiceFees                       113937 non-null  float64\n",
            " 72  LP_CollectionFees                    113937 non-null  float64\n",
            " 73  LP_GrossPrincipalLoss                113937 non-null  float64\n",
            " 74  LP_NetPrincipalLoss                  113937 non-null  float64\n",
            " 75  LP_NonPrincipalRecoverypayments      113937 non-null  float64\n",
            " 76  PercentFunded                        113937 non-null  float64\n",
            " 77  Recommendations                      113937 non-null  int64  \n",
            " 78  InvestmentFromFriendsCount           113937 non-null  int64  \n",
            " 79  InvestmentFromFriendsAmount          113937 non-null  float64\n",
            " 80  Investors                            113937 non-null  int64  \n",
            "dtypes: bool(3), float64(50), int64(11), object(17)\n",
            "memory usage: 68.1+ MB\n"
          ],
          "name": "stdout"
        }
      ]
    },
    {
      "cell_type": "code",
      "metadata": {
        "id": "xBmQ30j8D3vj",
        "colab_type": "code",
        "colab": {
          "base_uri": "https://localhost:8080/",
          "height": 238
        },
        "outputId": "3d4d0d9b-3ca9-46a9-d0ab-19885709caba"
      },
      "source": [
        "\tdf.LoanStatus.value_counts()"
      ],
      "execution_count": null,
      "outputs": [
        {
          "output_type": "execute_result",
          "data": {
            "text/plain": [
              "Current                   56576\n",
              "Completed                 38074\n",
              "Chargedoff                11992\n",
              "Defaulted                  5018\n",
              "Past Due (1-15 days)        806\n",
              "Past Due (31-60 days)       363\n",
              "Past Due (61-90 days)       313\n",
              "Past Due (91-120 days)      304\n",
              "Past Due (16-30 days)       265\n",
              "FinalPaymentInProgress      205\n",
              "Past Due (>120 days)         16\n",
              "Cancelled                     5\n",
              "Name: LoanStatus, dtype: int64"
            ]
          },
          "metadata": {
            "tags": []
          },
          "execution_count": 113
        }
      ]
    },
    {
      "cell_type": "code",
      "metadata": {
        "id": "HkAhzWoTEWnO",
        "colab_type": "code",
        "colab": {
          "base_uri": "https://localhost:8080/",
          "height": 170
        },
        "outputId": "c99ce393-56f3-446c-a3ce-17b29228f1ec"
      },
      "source": [
        "df.EmploymentStatus.value_counts()\n"
      ],
      "execution_count": null,
      "outputs": [
        {
          "output_type": "execute_result",
          "data": {
            "text/plain": [
              "Employed         67322\n",
              "Full-time        26355\n",
              "Self-employed     6134\n",
              "Not available     5347\n",
              "Other             3806\n",
              "Part-time         1088\n",
              "Not employed       835\n",
              "Retired            795\n",
              "Name: EmploymentStatus, dtype: int64"
            ]
          },
          "metadata": {
            "tags": []
          },
          "execution_count": 114
        }
      ]
    },
    {
      "cell_type": "code",
      "metadata": {
        "id": "zhrPcmomExKU",
        "colab_type": "code",
        "colab": {
          "base_uri": "https://localhost:8080/",
          "height": 221
        },
        "outputId": "aae6eb1c-b28b-4c27-e246-4949a8f26698"
      },
      "source": [
        "df.StatedMonthlyIncome.value_counts()"
      ],
      "execution_count": null,
      "outputs": [
        {
          "output_type": "execute_result",
          "data": {
            "text/plain": [
              "4166.666667    3526\n",
              "5000.000000    3389\n",
              "3333.333333    2917\n",
              "3750.000000    2428\n",
              "5416.666667    2374\n",
              "               ... \n",
              "7101.000000       1\n",
              "2701.083333       1\n",
              "8183.833333       1\n",
              "8477.666667       1\n",
              "3843.500000       1\n",
              "Name: StatedMonthlyIncome, Length: 13502, dtype: int64"
            ]
          },
          "metadata": {
            "tags": []
          },
          "execution_count": 115
        }
      ]
    },
    {
      "cell_type": "code",
      "metadata": {
        "id": "DePuOavUFcZO",
        "colab_type": "code",
        "colab": {
          "base_uri": "https://localhost:8080/",
          "height": 34
        },
        "outputId": "ddab9680-75b8-43d8-b192-afa3adf8ac78"
      },
      "source": [
        "df.StatedMonthlyIncome.mean()"
      ],
      "execution_count": null,
      "outputs": [
        {
          "output_type": "execute_result",
          "data": {
            "text/plain": [
              "5608.025568224836"
            ]
          },
          "metadata": {
            "tags": []
          },
          "execution_count": 116
        }
      ]
    },
    {
      "cell_type": "code",
      "metadata": {
        "id": "zS5fVYDqFgbs",
        "colab_type": "code",
        "colab": {
          "base_uri": "https://localhost:8080/",
          "height": 34
        },
        "outputId": "a30461ba-67fb-442a-cda6-2a6b972a43c4"
      },
      "source": [
        "df.StatedMonthlyIncome.max()"
      ],
      "execution_count": null,
      "outputs": [
        {
          "output_type": "execute_result",
          "data": {
            "text/plain": [
              "1750002.916667"
            ]
          },
          "metadata": {
            "tags": []
          },
          "execution_count": 117
        }
      ]
    },
    {
      "cell_type": "code",
      "metadata": {
        "id": "YzYZireBLHQk",
        "colab_type": "code",
        "colab": {
          "base_uri": "https://localhost:8080/",
          "height": 334
        },
        "outputId": "239659cf-8a62-4b46-be97-85725c94bb97"
      },
      "source": [
        "df.describe()"
      ],
      "execution_count": null,
      "outputs": [
        {
          "output_type": "execute_result",
          "data": {
            "text/html": [
              "<div>\n",
              "<style scoped>\n",
              "    .dataframe tbody tr th:only-of-type {\n",
              "        vertical-align: middle;\n",
              "    }\n",
              "\n",
              "    .dataframe tbody tr th {\n",
              "        vertical-align: top;\n",
              "    }\n",
              "\n",
              "    .dataframe thead th {\n",
              "        text-align: right;\n",
              "    }\n",
              "</style>\n",
              "<table border=\"1\" class=\"dataframe\">\n",
              "  <thead>\n",
              "    <tr style=\"text-align: right;\">\n",
              "      <th></th>\n",
              "      <th>ListingNumber</th>\n",
              "      <th>Term</th>\n",
              "      <th>BorrowerAPR</th>\n",
              "      <th>BorrowerRate</th>\n",
              "      <th>LenderYield</th>\n",
              "      <th>EstimatedEffectiveYield</th>\n",
              "      <th>EstimatedLoss</th>\n",
              "      <th>EstimatedReturn</th>\n",
              "      <th>ProsperRating (numeric)</th>\n",
              "      <th>ProsperScore</th>\n",
              "      <th>ListingCategory (numeric)</th>\n",
              "      <th>EmploymentStatusDuration</th>\n",
              "      <th>CreditScoreRangeLower</th>\n",
              "      <th>CreditScoreRangeUpper</th>\n",
              "      <th>CurrentCreditLines</th>\n",
              "      <th>OpenCreditLines</th>\n",
              "      <th>TotalCreditLinespast7years</th>\n",
              "      <th>OpenRevolvingAccounts</th>\n",
              "      <th>OpenRevolvingMonthlyPayment</th>\n",
              "      <th>InquiriesLast6Months</th>\n",
              "      <th>TotalInquiries</th>\n",
              "      <th>CurrentDelinquencies</th>\n",
              "      <th>AmountDelinquent</th>\n",
              "      <th>DelinquenciesLast7Years</th>\n",
              "      <th>PublicRecordsLast10Years</th>\n",
              "      <th>PublicRecordsLast12Months</th>\n",
              "      <th>RevolvingCreditBalance</th>\n",
              "      <th>BankcardUtilization</th>\n",
              "      <th>AvailableBankcardCredit</th>\n",
              "      <th>TotalTrades</th>\n",
              "      <th>TradesNeverDelinquent (percentage)</th>\n",
              "      <th>TradesOpenedLast6Months</th>\n",
              "      <th>DebtToIncomeRatio</th>\n",
              "      <th>StatedMonthlyIncome</th>\n",
              "      <th>TotalProsperLoans</th>\n",
              "      <th>TotalProsperPaymentsBilled</th>\n",
              "      <th>OnTimeProsperPayments</th>\n",
              "      <th>ProsperPaymentsLessThanOneMonthLate</th>\n",
              "      <th>ProsperPaymentsOneMonthPlusLate</th>\n",
              "      <th>ProsperPrincipalBorrowed</th>\n",
              "      <th>ProsperPrincipalOutstanding</th>\n",
              "      <th>ScorexChangeAtTimeOfListing</th>\n",
              "      <th>LoanCurrentDaysDelinquent</th>\n",
              "      <th>LoanFirstDefaultedCycleNumber</th>\n",
              "      <th>LoanMonthsSinceOrigination</th>\n",
              "      <th>LoanNumber</th>\n",
              "      <th>LoanOriginalAmount</th>\n",
              "      <th>MonthlyLoanPayment</th>\n",
              "      <th>LP_CustomerPayments</th>\n",
              "      <th>LP_CustomerPrincipalPayments</th>\n",
              "      <th>LP_InterestandFees</th>\n",
              "      <th>LP_ServiceFees</th>\n",
              "      <th>LP_CollectionFees</th>\n",
              "      <th>LP_GrossPrincipalLoss</th>\n",
              "      <th>LP_NetPrincipalLoss</th>\n",
              "      <th>LP_NonPrincipalRecoverypayments</th>\n",
              "      <th>PercentFunded</th>\n",
              "      <th>Recommendations</th>\n",
              "      <th>InvestmentFromFriendsCount</th>\n",
              "      <th>InvestmentFromFriendsAmount</th>\n",
              "      <th>Investors</th>\n",
              "    </tr>\n",
              "  </thead>\n",
              "  <tbody>\n",
              "    <tr>\n",
              "      <th>count</th>\n",
              "      <td>1.139370e+05</td>\n",
              "      <td>113937.000000</td>\n",
              "      <td>113912.000000</td>\n",
              "      <td>113937.000000</td>\n",
              "      <td>113937.000000</td>\n",
              "      <td>84853.000000</td>\n",
              "      <td>84853.000000</td>\n",
              "      <td>84853.000000</td>\n",
              "      <td>84853.000000</td>\n",
              "      <td>84853.000000</td>\n",
              "      <td>113937.000000</td>\n",
              "      <td>106312.000000</td>\n",
              "      <td>113346.000000</td>\n",
              "      <td>113346.000000</td>\n",
              "      <td>106333.000000</td>\n",
              "      <td>106333.000000</td>\n",
              "      <td>113240.000000</td>\n",
              "      <td>113937.00000</td>\n",
              "      <td>113937.000000</td>\n",
              "      <td>113240.000000</td>\n",
              "      <td>112778.000000</td>\n",
              "      <td>113240.000000</td>\n",
              "      <td>106315.000000</td>\n",
              "      <td>112947.000000</td>\n",
              "      <td>113240.000000</td>\n",
              "      <td>106333.000000</td>\n",
              "      <td>1.063330e+05</td>\n",
              "      <td>106333.000000</td>\n",
              "      <td>106393.000000</td>\n",
              "      <td>106393.000000</td>\n",
              "      <td>106393.000000</td>\n",
              "      <td>106393.000000</td>\n",
              "      <td>105383.000000</td>\n",
              "      <td>1.139370e+05</td>\n",
              "      <td>22085.000000</td>\n",
              "      <td>22085.000000</td>\n",
              "      <td>22085.000000</td>\n",
              "      <td>22085.000000</td>\n",
              "      <td>22085.000000</td>\n",
              "      <td>22085.000000</td>\n",
              "      <td>22085.000000</td>\n",
              "      <td>18928.000000</td>\n",
              "      <td>113937.000000</td>\n",
              "      <td>16952.000000</td>\n",
              "      <td>113937.000000</td>\n",
              "      <td>113937.000000</td>\n",
              "      <td>113937.00000</td>\n",
              "      <td>113937.000000</td>\n",
              "      <td>113937.000000</td>\n",
              "      <td>113937.000000</td>\n",
              "      <td>113937.000000</td>\n",
              "      <td>113937.000000</td>\n",
              "      <td>113937.000000</td>\n",
              "      <td>113937.000000</td>\n",
              "      <td>113937.000000</td>\n",
              "      <td>113937.000000</td>\n",
              "      <td>113937.000000</td>\n",
              "      <td>113937.000000</td>\n",
              "      <td>113937.000000</td>\n",
              "      <td>113937.000000</td>\n",
              "      <td>113937.000000</td>\n",
              "    </tr>\n",
              "    <tr>\n",
              "      <th>mean</th>\n",
              "      <td>6.278857e+05</td>\n",
              "      <td>40.830248</td>\n",
              "      <td>0.218828</td>\n",
              "      <td>0.192764</td>\n",
              "      <td>0.182701</td>\n",
              "      <td>0.168661</td>\n",
              "      <td>0.080306</td>\n",
              "      <td>0.096068</td>\n",
              "      <td>4.072243</td>\n",
              "      <td>5.950067</td>\n",
              "      <td>2.774209</td>\n",
              "      <td>96.071582</td>\n",
              "      <td>685.567731</td>\n",
              "      <td>704.567731</td>\n",
              "      <td>10.317192</td>\n",
              "      <td>9.260164</td>\n",
              "      <td>26.754539</td>\n",
              "      <td>6.96979</td>\n",
              "      <td>398.292161</td>\n",
              "      <td>1.435085</td>\n",
              "      <td>5.584405</td>\n",
              "      <td>0.592052</td>\n",
              "      <td>984.507059</td>\n",
              "      <td>4.154984</td>\n",
              "      <td>0.312646</td>\n",
              "      <td>0.015094</td>\n",
              "      <td>1.759871e+04</td>\n",
              "      <td>0.561309</td>\n",
              "      <td>11210.225447</td>\n",
              "      <td>23.230034</td>\n",
              "      <td>0.885897</td>\n",
              "      <td>0.802327</td>\n",
              "      <td>0.275947</td>\n",
              "      <td>5.608026e+03</td>\n",
              "      <td>1.421100</td>\n",
              "      <td>22.934345</td>\n",
              "      <td>22.271949</td>\n",
              "      <td>0.613629</td>\n",
              "      <td>0.048540</td>\n",
              "      <td>8472.311961</td>\n",
              "      <td>2930.313906</td>\n",
              "      <td>-3.223214</td>\n",
              "      <td>152.816539</td>\n",
              "      <td>16.268464</td>\n",
              "      <td>31.896882</td>\n",
              "      <td>69444.474271</td>\n",
              "      <td>8337.01385</td>\n",
              "      <td>272.475783</td>\n",
              "      <td>4183.079489</td>\n",
              "      <td>3105.536588</td>\n",
              "      <td>1077.542901</td>\n",
              "      <td>-54.725641</td>\n",
              "      <td>-14.242698</td>\n",
              "      <td>700.446342</td>\n",
              "      <td>681.420499</td>\n",
              "      <td>25.142686</td>\n",
              "      <td>0.998584</td>\n",
              "      <td>0.048027</td>\n",
              "      <td>0.023460</td>\n",
              "      <td>16.550751</td>\n",
              "      <td>80.475228</td>\n",
              "    </tr>\n",
              "    <tr>\n",
              "      <th>std</th>\n",
              "      <td>3.280762e+05</td>\n",
              "      <td>10.436212</td>\n",
              "      <td>0.080364</td>\n",
              "      <td>0.074818</td>\n",
              "      <td>0.074516</td>\n",
              "      <td>0.068467</td>\n",
              "      <td>0.046764</td>\n",
              "      <td>0.030403</td>\n",
              "      <td>1.673227</td>\n",
              "      <td>2.376501</td>\n",
              "      <td>3.996797</td>\n",
              "      <td>94.480605</td>\n",
              "      <td>66.458275</td>\n",
              "      <td>66.458275</td>\n",
              "      <td>5.457866</td>\n",
              "      <td>5.022644</td>\n",
              "      <td>13.637871</td>\n",
              "      <td>4.63097</td>\n",
              "      <td>447.159711</td>\n",
              "      <td>2.437507</td>\n",
              "      <td>6.429946</td>\n",
              "      <td>1.978707</td>\n",
              "      <td>7158.270157</td>\n",
              "      <td>10.160216</td>\n",
              "      <td>0.727868</td>\n",
              "      <td>0.154092</td>\n",
              "      <td>3.293640e+04</td>\n",
              "      <td>0.317918</td>\n",
              "      <td>19818.361309</td>\n",
              "      <td>11.871311</td>\n",
              "      <td>0.148179</td>\n",
              "      <td>1.097637</td>\n",
              "      <td>0.551759</td>\n",
              "      <td>7.478497e+03</td>\n",
              "      <td>0.764042</td>\n",
              "      <td>19.249584</td>\n",
              "      <td>18.830425</td>\n",
              "      <td>2.446827</td>\n",
              "      <td>0.556285</td>\n",
              "      <td>7395.507650</td>\n",
              "      <td>3806.635075</td>\n",
              "      <td>50.063567</td>\n",
              "      <td>466.320254</td>\n",
              "      <td>9.005898</td>\n",
              "      <td>29.974184</td>\n",
              "      <td>38930.479610</td>\n",
              "      <td>6245.80058</td>\n",
              "      <td>192.697812</td>\n",
              "      <td>4790.907234</td>\n",
              "      <td>4069.527670</td>\n",
              "      <td>1183.414168</td>\n",
              "      <td>60.675425</td>\n",
              "      <td>109.232758</td>\n",
              "      <td>2388.513831</td>\n",
              "      <td>2357.167068</td>\n",
              "      <td>275.657937</td>\n",
              "      <td>0.017919</td>\n",
              "      <td>0.332353</td>\n",
              "      <td>0.232412</td>\n",
              "      <td>294.545422</td>\n",
              "      <td>103.239020</td>\n",
              "    </tr>\n",
              "    <tr>\n",
              "      <th>min</th>\n",
              "      <td>4.000000e+00</td>\n",
              "      <td>12.000000</td>\n",
              "      <td>0.006530</td>\n",
              "      <td>0.000000</td>\n",
              "      <td>-0.010000</td>\n",
              "      <td>-0.182700</td>\n",
              "      <td>0.004900</td>\n",
              "      <td>-0.182700</td>\n",
              "      <td>1.000000</td>\n",
              "      <td>1.000000</td>\n",
              "      <td>0.000000</td>\n",
              "      <td>0.000000</td>\n",
              "      <td>0.000000</td>\n",
              "      <td>19.000000</td>\n",
              "      <td>0.000000</td>\n",
              "      <td>0.000000</td>\n",
              "      <td>2.000000</td>\n",
              "      <td>0.00000</td>\n",
              "      <td>0.000000</td>\n",
              "      <td>0.000000</td>\n",
              "      <td>0.000000</td>\n",
              "      <td>0.000000</td>\n",
              "      <td>0.000000</td>\n",
              "      <td>0.000000</td>\n",
              "      <td>0.000000</td>\n",
              "      <td>0.000000</td>\n",
              "      <td>0.000000e+00</td>\n",
              "      <td>0.000000</td>\n",
              "      <td>0.000000</td>\n",
              "      <td>0.000000</td>\n",
              "      <td>0.000000</td>\n",
              "      <td>0.000000</td>\n",
              "      <td>0.000000</td>\n",
              "      <td>0.000000e+00</td>\n",
              "      <td>0.000000</td>\n",
              "      <td>0.000000</td>\n",
              "      <td>0.000000</td>\n",
              "      <td>0.000000</td>\n",
              "      <td>0.000000</td>\n",
              "      <td>0.000000</td>\n",
              "      <td>0.000000</td>\n",
              "      <td>-209.000000</td>\n",
              "      <td>0.000000</td>\n",
              "      <td>0.000000</td>\n",
              "      <td>0.000000</td>\n",
              "      <td>1.000000</td>\n",
              "      <td>1000.00000</td>\n",
              "      <td>0.000000</td>\n",
              "      <td>-2.349900</td>\n",
              "      <td>0.000000</td>\n",
              "      <td>-2.349900</td>\n",
              "      <td>-664.870000</td>\n",
              "      <td>-9274.750000</td>\n",
              "      <td>-94.200000</td>\n",
              "      <td>-954.550000</td>\n",
              "      <td>0.000000</td>\n",
              "      <td>0.700000</td>\n",
              "      <td>0.000000</td>\n",
              "      <td>0.000000</td>\n",
              "      <td>0.000000</td>\n",
              "      <td>1.000000</td>\n",
              "    </tr>\n",
              "    <tr>\n",
              "      <th>25%</th>\n",
              "      <td>4.009190e+05</td>\n",
              "      <td>36.000000</td>\n",
              "      <td>0.156290</td>\n",
              "      <td>0.134000</td>\n",
              "      <td>0.124200</td>\n",
              "      <td>0.115670</td>\n",
              "      <td>0.042400</td>\n",
              "      <td>0.074080</td>\n",
              "      <td>3.000000</td>\n",
              "      <td>4.000000</td>\n",
              "      <td>1.000000</td>\n",
              "      <td>26.000000</td>\n",
              "      <td>660.000000</td>\n",
              "      <td>679.000000</td>\n",
              "      <td>7.000000</td>\n",
              "      <td>6.000000</td>\n",
              "      <td>17.000000</td>\n",
              "      <td>4.00000</td>\n",
              "      <td>114.000000</td>\n",
              "      <td>0.000000</td>\n",
              "      <td>2.000000</td>\n",
              "      <td>0.000000</td>\n",
              "      <td>0.000000</td>\n",
              "      <td>0.000000</td>\n",
              "      <td>0.000000</td>\n",
              "      <td>0.000000</td>\n",
              "      <td>3.121000e+03</td>\n",
              "      <td>0.310000</td>\n",
              "      <td>880.000000</td>\n",
              "      <td>15.000000</td>\n",
              "      <td>0.820000</td>\n",
              "      <td>0.000000</td>\n",
              "      <td>0.140000</td>\n",
              "      <td>3.200333e+03</td>\n",
              "      <td>1.000000</td>\n",
              "      <td>9.000000</td>\n",
              "      <td>9.000000</td>\n",
              "      <td>0.000000</td>\n",
              "      <td>0.000000</td>\n",
              "      <td>3500.000000</td>\n",
              "      <td>0.000000</td>\n",
              "      <td>-35.000000</td>\n",
              "      <td>0.000000</td>\n",
              "      <td>9.000000</td>\n",
              "      <td>6.000000</td>\n",
              "      <td>37332.000000</td>\n",
              "      <td>4000.00000</td>\n",
              "      <td>131.620000</td>\n",
              "      <td>1005.760000</td>\n",
              "      <td>500.890000</td>\n",
              "      <td>274.870000</td>\n",
              "      <td>-73.180000</td>\n",
              "      <td>0.000000</td>\n",
              "      <td>0.000000</td>\n",
              "      <td>0.000000</td>\n",
              "      <td>0.000000</td>\n",
              "      <td>1.000000</td>\n",
              "      <td>0.000000</td>\n",
              "      <td>0.000000</td>\n",
              "      <td>0.000000</td>\n",
              "      <td>2.000000</td>\n",
              "    </tr>\n",
              "    <tr>\n",
              "      <th>50%</th>\n",
              "      <td>6.005540e+05</td>\n",
              "      <td>36.000000</td>\n",
              "      <td>0.209760</td>\n",
              "      <td>0.184000</td>\n",
              "      <td>0.173000</td>\n",
              "      <td>0.161500</td>\n",
              "      <td>0.072400</td>\n",
              "      <td>0.091700</td>\n",
              "      <td>4.000000</td>\n",
              "      <td>6.000000</td>\n",
              "      <td>1.000000</td>\n",
              "      <td>67.000000</td>\n",
              "      <td>680.000000</td>\n",
              "      <td>699.000000</td>\n",
              "      <td>10.000000</td>\n",
              "      <td>9.000000</td>\n",
              "      <td>25.000000</td>\n",
              "      <td>6.00000</td>\n",
              "      <td>271.000000</td>\n",
              "      <td>1.000000</td>\n",
              "      <td>4.000000</td>\n",
              "      <td>0.000000</td>\n",
              "      <td>0.000000</td>\n",
              "      <td>0.000000</td>\n",
              "      <td>0.000000</td>\n",
              "      <td>0.000000</td>\n",
              "      <td>8.549000e+03</td>\n",
              "      <td>0.600000</td>\n",
              "      <td>4100.000000</td>\n",
              "      <td>22.000000</td>\n",
              "      <td>0.940000</td>\n",
              "      <td>0.000000</td>\n",
              "      <td>0.220000</td>\n",
              "      <td>4.666667e+03</td>\n",
              "      <td>1.000000</td>\n",
              "      <td>16.000000</td>\n",
              "      <td>15.000000</td>\n",
              "      <td>0.000000</td>\n",
              "      <td>0.000000</td>\n",
              "      <td>6000.000000</td>\n",
              "      <td>1626.550000</td>\n",
              "      <td>-3.000000</td>\n",
              "      <td>0.000000</td>\n",
              "      <td>14.000000</td>\n",
              "      <td>21.000000</td>\n",
              "      <td>68599.000000</td>\n",
              "      <td>6500.00000</td>\n",
              "      <td>217.740000</td>\n",
              "      <td>2583.830000</td>\n",
              "      <td>1587.500000</td>\n",
              "      <td>700.840100</td>\n",
              "      <td>-34.440000</td>\n",
              "      <td>0.000000</td>\n",
              "      <td>0.000000</td>\n",
              "      <td>0.000000</td>\n",
              "      <td>0.000000</td>\n",
              "      <td>1.000000</td>\n",
              "      <td>0.000000</td>\n",
              "      <td>0.000000</td>\n",
              "      <td>0.000000</td>\n",
              "      <td>44.000000</td>\n",
              "    </tr>\n",
              "    <tr>\n",
              "      <th>75%</th>\n",
              "      <td>8.926340e+05</td>\n",
              "      <td>36.000000</td>\n",
              "      <td>0.283810</td>\n",
              "      <td>0.250000</td>\n",
              "      <td>0.240000</td>\n",
              "      <td>0.224300</td>\n",
              "      <td>0.112000</td>\n",
              "      <td>0.116600</td>\n",
              "      <td>5.000000</td>\n",
              "      <td>8.000000</td>\n",
              "      <td>3.000000</td>\n",
              "      <td>137.000000</td>\n",
              "      <td>720.000000</td>\n",
              "      <td>739.000000</td>\n",
              "      <td>13.000000</td>\n",
              "      <td>12.000000</td>\n",
              "      <td>35.000000</td>\n",
              "      <td>9.00000</td>\n",
              "      <td>525.000000</td>\n",
              "      <td>2.000000</td>\n",
              "      <td>7.000000</td>\n",
              "      <td>0.000000</td>\n",
              "      <td>0.000000</td>\n",
              "      <td>3.000000</td>\n",
              "      <td>0.000000</td>\n",
              "      <td>0.000000</td>\n",
              "      <td>1.952100e+04</td>\n",
              "      <td>0.840000</td>\n",
              "      <td>13180.000000</td>\n",
              "      <td>30.000000</td>\n",
              "      <td>1.000000</td>\n",
              "      <td>1.000000</td>\n",
              "      <td>0.320000</td>\n",
              "      <td>6.825000e+03</td>\n",
              "      <td>2.000000</td>\n",
              "      <td>33.000000</td>\n",
              "      <td>32.000000</td>\n",
              "      <td>0.000000</td>\n",
              "      <td>0.000000</td>\n",
              "      <td>11000.000000</td>\n",
              "      <td>4126.720000</td>\n",
              "      <td>25.000000</td>\n",
              "      <td>0.000000</td>\n",
              "      <td>22.000000</td>\n",
              "      <td>65.000000</td>\n",
              "      <td>101901.000000</td>\n",
              "      <td>12000.00000</td>\n",
              "      <td>371.580000</td>\n",
              "      <td>5548.400000</td>\n",
              "      <td>4000.000000</td>\n",
              "      <td>1458.540000</td>\n",
              "      <td>-13.920000</td>\n",
              "      <td>0.000000</td>\n",
              "      <td>0.000000</td>\n",
              "      <td>0.000000</td>\n",
              "      <td>0.000000</td>\n",
              "      <td>1.000000</td>\n",
              "      <td>0.000000</td>\n",
              "      <td>0.000000</td>\n",
              "      <td>0.000000</td>\n",
              "      <td>115.000000</td>\n",
              "    </tr>\n",
              "    <tr>\n",
              "      <th>max</th>\n",
              "      <td>1.255725e+06</td>\n",
              "      <td>60.000000</td>\n",
              "      <td>0.512290</td>\n",
              "      <td>0.497500</td>\n",
              "      <td>0.492500</td>\n",
              "      <td>0.319900</td>\n",
              "      <td>0.366000</td>\n",
              "      <td>0.283700</td>\n",
              "      <td>7.000000</td>\n",
              "      <td>11.000000</td>\n",
              "      <td>20.000000</td>\n",
              "      <td>755.000000</td>\n",
              "      <td>880.000000</td>\n",
              "      <td>899.000000</td>\n",
              "      <td>59.000000</td>\n",
              "      <td>54.000000</td>\n",
              "      <td>136.000000</td>\n",
              "      <td>51.00000</td>\n",
              "      <td>14985.000000</td>\n",
              "      <td>105.000000</td>\n",
              "      <td>379.000000</td>\n",
              "      <td>83.000000</td>\n",
              "      <td>463881.000000</td>\n",
              "      <td>99.000000</td>\n",
              "      <td>38.000000</td>\n",
              "      <td>20.000000</td>\n",
              "      <td>1.435667e+06</td>\n",
              "      <td>5.950000</td>\n",
              "      <td>646285.000000</td>\n",
              "      <td>126.000000</td>\n",
              "      <td>1.000000</td>\n",
              "      <td>20.000000</td>\n",
              "      <td>10.010000</td>\n",
              "      <td>1.750003e+06</td>\n",
              "      <td>8.000000</td>\n",
              "      <td>141.000000</td>\n",
              "      <td>141.000000</td>\n",
              "      <td>42.000000</td>\n",
              "      <td>21.000000</td>\n",
              "      <td>72499.000000</td>\n",
              "      <td>23450.950000</td>\n",
              "      <td>286.000000</td>\n",
              "      <td>2704.000000</td>\n",
              "      <td>44.000000</td>\n",
              "      <td>100.000000</td>\n",
              "      <td>136486.000000</td>\n",
              "      <td>35000.00000</td>\n",
              "      <td>2251.510000</td>\n",
              "      <td>40702.390000</td>\n",
              "      <td>35000.000000</td>\n",
              "      <td>15617.030000</td>\n",
              "      <td>32.060000</td>\n",
              "      <td>0.000000</td>\n",
              "      <td>25000.000000</td>\n",
              "      <td>25000.000000</td>\n",
              "      <td>21117.900000</td>\n",
              "      <td>1.012500</td>\n",
              "      <td>39.000000</td>\n",
              "      <td>33.000000</td>\n",
              "      <td>25000.000000</td>\n",
              "      <td>1189.000000</td>\n",
              "    </tr>\n",
              "  </tbody>\n",
              "</table>\n",
              "</div>"
            ],
            "text/plain": [
              "       ListingNumber           Term  ...  InvestmentFromFriendsAmount      Investors\n",
              "count   1.139370e+05  113937.000000  ...                113937.000000  113937.000000\n",
              "mean    6.278857e+05      40.830248  ...                    16.550751      80.475228\n",
              "std     3.280762e+05      10.436212  ...                   294.545422     103.239020\n",
              "min     4.000000e+00      12.000000  ...                     0.000000       1.000000\n",
              "25%     4.009190e+05      36.000000  ...                     0.000000       2.000000\n",
              "50%     6.005540e+05      36.000000  ...                     0.000000      44.000000\n",
              "75%     8.926340e+05      36.000000  ...                     0.000000     115.000000\n",
              "max     1.255725e+06      60.000000  ...                 25000.000000    1189.000000\n",
              "\n",
              "[8 rows x 61 columns]"
            ]
          },
          "metadata": {
            "tags": []
          },
          "execution_count": 118
        }
      ]
    },
    {
      "cell_type": "markdown",
      "metadata": {
        "id": "8-S-k2BgmTr4",
        "colab_type": "text"
      },
      "source": [
        "**Loan status**"
      ]
    },
    {
      "cell_type": "markdown",
      "metadata": {
        "id": "3g0ZkLreey1F",
        "colab_type": "text"
      },
      "source": [
        "Let's explore Loan status data:"
      ]
    },
    {
      "cell_type": "code",
      "metadata": {
        "id": "1XRW2yC9ceXa",
        "colab_type": "code",
        "colab": {
          "base_uri": "https://localhost:8080/",
          "height": 458
        },
        "outputId": "d2de4528-043c-4ab1-e00f-ceeb16ed444a"
      },
      "source": [
        "plt.figure(figsize=[8, 5])\n",
        "color0 = sb.color_palette()[0]\n",
        "LoanStatus_order = df.LoanStatus.value_counts().index\n",
        "sb.countplot(data = df, x = 'LoanStatus',color = color0,order=LoanStatus_order)\n",
        "plt.xticks(rotation = '90')\n",
        "plt.title('Bar chart of Loan status')\n",
        "plt.xlabel('Loan Status')\n",
        "plt.ylabel('Value Counts')\n",
        "plt.show()"
      ],
      "execution_count": null,
      "outputs": [
        {
          "output_type": "display_data",
          "data": {
            "image/png": "[encoded data removed]",
            "text/plain": [
              "<Figure size 576x360 with 1 Axes>"
            ]
          },
          "metadata": {
            "tags": [],
            "needs_background": "light"
          }
        }
      ]
    },
    {
      "cell_type": "code",
      "metadata": {
        "id": "G9expX4JeYc6",
        "colab_type": "code",
        "colab": {
          "base_uri": "https://localhost:8080/",
          "height": 458
        },
        "outputId": "6c7759a2-85d5-4a27-a06b-7e7eb7c0104d"
      },
      "source": [
        "plt.figure(figsize=[8, 5])\n",
        "LoanStatus_order=df.LoanStatus.value_counts().index\n",
        "sb.countplot(data = df, x = 'LoanStatus',color=color0,order=LoanStatus_order)\n",
        "plt.xticks(rotation = '90')\n",
        "plt.title('Bar chart of Loan status')\n",
        "plt.xlabel('Loan Status')\n",
        "plt.ylabel('Value Counts')\n",
        "plt.ylim(0,400)\n",
        "plt.show()"
      ],
      "execution_count": null,
      "outputs": [
        {
          "output_type": "display_data",
          "data": {
            "image/png": "[encoded data removed]",
            "text/plain": [
              "<Figure size 576x360 with 1 Axes>"
            ]
          },
          "metadata": {
            "tags": [],
            "needs_background": "light"
          }
        }
      ]
    },
    {
      "cell_type": "markdown",
      "metadata": {
        "id": "1abnst7CL5yv",
        "colab_type": "text"
      },
      "source": [
        "**Insight**: People usually pay ontime thie loan. Here, you can see two category of loan status, Past Due(>120 days) and cancelled very small and almost zero. Main categories are Current, completed, changeoff, Defaulted ,and Pad Due (1-15 days)."
      ]
    },
    {
      "cell_type": "markdown",
      "metadata": {
        "id": "DGkul80_mbzt",
        "colab_type": "text"
      },
      "source": [
        "**IncomeRange**"
      ]
    },
    {
      "cell_type": "code",
      "metadata": {
        "id": "Q6hbIn24g4lZ",
        "colab_type": "code",
        "colab": {
          "base_uri": "https://localhost:8080/",
          "height": 170
        },
        "outputId": "7a556824-d6ec-4041-b383-0dbc7b8ac35a"
      },
      "source": [
        "df.IncomeRange.value_counts()\n"
      ],
      "execution_count": null,
      "outputs": [
        {
          "output_type": "execute_result",
          "data": {
            "text/plain": [
              "$25,000-49,999    32192\n",
              "$50,000-74,999    31050\n",
              "$100,000+         17337\n",
              "$75,000-99,999    16916\n",
              "Not displayed      7741\n",
              "$1-24,999          7274\n",
              "Not employed        806\n",
              "$0                  621\n",
              "Name: IncomeRange, dtype: int64"
            ]
          },
          "metadata": {
            "tags": []
          },
          "execution_count": 121
        }
      ]
    },
    {
      "cell_type": "code",
      "metadata": {
        "id": "giLzUi5hg_G_",
        "colab_type": "code",
        "colab": {
          "base_uri": "https://localhost:8080/",
          "height": 419
        },
        "outputId": "db87ddf6-d009-47b6-9d01-a79946a90bbf"
      },
      "source": [
        "plt.figure(figsize=[8, 5])\n",
        "color0 = sb.color_palette()[0]\n",
        "LoanStatus_order = df.IncomeRange.value_counts().index\n",
        "IncomeRange_order=[\"Not displayed\", \"Not employed\", \"$0\",\"$1-24,999\",\"$25,000-49,999\",\"$50,000-74,999\",\"$75,000-99,999\",\"$100,000+\" ]\n",
        "sb.countplot(data = df, x = 'IncomeRange',color = color0,order=IncomeRange_order)\n",
        "plt.xticks(rotation = '90')\n",
        "plt.title('Bar chart of Income range')\n",
        "plt.xlabel('Income Range')\n",
        "plt.ylabel('Value Counts')\n",
        "plt.show()"
      ],
      "execution_count": null,
      "outputs": [
        {
          "output_type": "display_data",
          "data": {
            "image/png": "[encoded data removed]",
            "text/plain": [
              "<Figure size 576x360 with 1 Axes>"
            ]
          },
          "metadata": {
            "tags": [],
            "needs_background": "light"
          }
        }
      ]
    },
    {
      "cell_type": "markdown",
      "metadata": {
        "id": "5puAoh3milDc",
        "colab_type": "text"
      },
      "source": [
        "Insight: Does income affect on getting loan? People with salary in two ranges 25,000 - $49,999 and $50,000 - $74,999 are main groups to get loan, after that people with more than 75,0000 have got more loan."
      ]
    },
    {
      "cell_type": "markdown",
      "metadata": {
        "id": "K12LrEZti8Y7",
        "colab_type": "text"
      },
      "source": [
        "**Brrow Rate (APR)**"
      ]
    },
    {
      "cell_type": "code",
      "metadata": {
        "id": "PW40ByTrjM55",
        "colab_type": "code",
        "colab": {
          "base_uri": "https://localhost:8080/",
          "height": 334
        },
        "outputId": "196f0e22-5745-4d40-b8cc-57761f5cfc2b"
      },
      "source": [
        "#plot Borrower Rate \n",
        "plt.figure(figsize=[8, 5])\n",
        "bins = np.arange(0, df['BorrowerRate'].max()+0.01, 0.01)\n",
        "plt.hist(data=df,x=\"BorrowerRate\", bins = bins)\n",
        "plt.xlim([0,0.5])\n",
        "plt.xlabel('Borrower Rate (APR)')\n",
        "plt.show()"
      ],
      "execution_count": null,
      "outputs": [
        {
          "output_type": "display_data",
          "data": {
            "image/png": "[encoded data removed]",
            "text/plain": [
              "<Figure size 576x360 with 1 Axes>"
            ]
          },
          "metadata": {
            "tags": [],
            "needs_background": "light"
          }
        }
      ]
    },
    {
      "cell_type": "markdown",
      "metadata": {
        "id": "qdBOl-IMimeh",
        "colab_type": "text"
      },
      "source": [
        "**Insight**: Do loans are more high interest or low interest?\n",
        "APR Of Loans are most between 0.1 to 0.2."
      ]
    },
    {
      "cell_type": "markdown",
      "metadata": {
        "id": "IpUuS_1ln7O2",
        "colab_type": "text"
      },
      "source": [
        "**Occupation**"
      ]
    },
    {
      "cell_type": "code",
      "metadata": {
        "id": "boHpgZdRki_a",
        "colab_type": "code",
        "colab": {
          "base_uri": "https://localhost:8080/",
          "height": 518
        },
        "outputId": "9bc060e8-7755-418b-fd64-73a0c5b53819"
      },
      "source": [
        "plt.figure(figsize=[15, 5])\n",
        "LoanStatus_order=df.Occupation.value_counts().index\n",
        "sb.countplot(data = df, x = 'Occupation',color=color0,order=LoanStatus_order)\n",
        "plt.xticks(rotation = '90')\n",
        "plt.title('Bar chart of Occupation')\n",
        "plt.xlabel('Occupation')\n",
        "plt.ylabel('Value Counts')\n",
        "plt.show()"
      ],
      "execution_count": null,
      "outputs": [
        {
          "output_type": "display_data",
          "data": {
            "image/png": "[encoded data removed]",
            "text/plain": [
              "<Figure size 1080x360 with 1 Axes>"
            ]
          },
          "metadata": {
            "tags": [],
            "needs_background": "light"
          }
        }
      ]
    },
    {
      "cell_type": "code",
      "metadata": {
        "id": "NzZKrMpulK0A",
        "colab_type": "code",
        "colab": {
          "base_uri": "https://localhost:8080/",
          "height": 518
        },
        "outputId": "34e0ede7-1f14-4c39-d94a-3badc1dea1f2"
      },
      "source": [
        "plt.figure(figsize=[15, 5])\n",
        "LoanStatusorder=df.Occupation.value_counts().index\n",
        "sb.countplot(data = df, x = 'Occupation',color=color0,order=LoanStatusorder)\n",
        "plt.xticks(rotation = '90')\n",
        "plt.title('Bar chart of Occupation')\n",
        "plt.xlabel('Occupation')\n",
        "plt.ylabel('Value Counts')\n",
        "plt.ylim(0,500)\n",
        "plt.show()"
      ],
      "execution_count": null,
      "outputs": [
        {
          "output_type": "display_data",
          "data": {
            "image/png": "[encoded data removed]",
            "text/plain": [
              "<Figure size 1080x360 with 1 Axes>"
            ]
          },
          "metadata": {
            "tags": [],
            "needs_background": "light"
          }
        }
      ]
    },
    {
      "cell_type": "markdown",
      "metadata": {
        "id": "P3wL57XJn-7t",
        "colab_type": "text"
      },
      "source": [
        "**Insight**: people with What kind of people have got more loan? how about less loan? \n",
        "The Students are less willing to get loan, and computer programmer and professional are most willing to get loan."
      ]
    },
    {
      "cell_type": "markdown",
      "metadata": {
        "id": "NTSRJ49uoPJj",
        "colab_type": "text"
      },
      "source": [
        "**ListingCreationDate**"
      ]
    },
    {
      "cell_type": "code",
      "metadata": {
        "id": "ECX58uu6lR9W",
        "colab_type": "code",
        "colab": {
          "base_uri": "https://localhost:8080/",
          "height": 279
        },
        "outputId": "6e57b523-e85a-4924-fedf-d38edb0f163d"
      },
      "source": [
        "df['year'] = df.ListingCreationDate.str.split('-').str[0]\n",
        "year_data = df.year.value_counts()\n",
        "sb.pointplot(data=df, x='year', y='BorrowerRate');"
      ],
      "execution_count": null,
      "outputs": [
        {
          "output_type": "display_data",
          "data": {
            "image/png": "[encoded data removed]",
            "text/plain": [
              "<Figure size 432x288 with 1 Axes>"
            ]
          },
          "metadata": {
            "tags": [],
            "needs_background": "light"
          }
        }
      ]
    },
    {
      "cell_type": "markdown",
      "metadata": {
        "id": "6iaACmiuofqc",
        "colab_type": "text"
      },
      "source": [
        "Listing Creation Date after going up between 2007 to 2011 got started to falling down."
      ]
    },
    {
      "cell_type": "markdown",
      "metadata": {
        "id": "rK_S9otCo5E8",
        "colab_type": "text"
      },
      "source": [
        "**IsBorrowerHomeowner**"
      ]
    },
    {
      "cell_type": "code",
      "metadata": {
        "id": "vXLBbqsAoJXu",
        "colab_type": "code",
        "colab": {
          "base_uri": "https://localhost:8080/",
          "height": 68
        },
        "outputId": "fcc98e05-2e0d-43e1-f8c0-ff87c214d855"
      },
      "source": [
        "df.IsBorrowerHomeowner.value_counts()"
      ],
      "execution_count": null,
      "outputs": [
        {
          "output_type": "execute_result",
          "data": {
            "text/plain": [
              "True     57478\n",
              "False    56459\n",
              "Name: IsBorrowerHomeowner, dtype: int64"
            ]
          },
          "metadata": {
            "tags": []
          },
          "execution_count": 127
        }
      ]
    },
    {
      "cell_type": "code",
      "metadata": {
        "id": "zP8dNSjPoa0u",
        "colab_type": "code",
        "colab": {
          "base_uri": "https://localhost:8080/",
          "height": 575
        },
        "outputId": "3f7b60fe-a40c-4a30-f5d0-2c6a7f6c5d37"
      },
      "source": [
        "plt.figure(figsize=[10,10])\n",
        "stored_counts=df[\"IsBorrowerHomeowner\"].value_counts()\n",
        "plt.pie(stored_counts, counterclock=False,autopct='%1.0f%%');\n",
        "plt.axis(\"square\");"
      ],
      "execution_count": null,
      "outputs": [
        {
          "output_type": "display_data",
          "data": {
            "image/png": "[encoded data removed]",
            "text/plain": [
              "<Figure size 720x720 with 1 Axes>"
            ]
          },
          "metadata": {
            "tags": []
          }
        }
      ]
    },
    {
      "cell_type": "markdown",
      "metadata": {
        "id": "14MLH82qo9Mn",
        "colab_type": "text"
      },
      "source": [
        "Insight: Has having own home been affected on getting loan?You can see have or have not home is not matter overally."
      ]
    },
    {
      "cell_type": "markdown",
      "metadata": {
        "id": "IifQI2rLgoI3",
        "colab_type": "text"
      },
      "source": [
        "**ListingCreationDate**"
      ]
    },
    {
      "cell_type": "code",
      "metadata": {
        "id": "6qEqmCZFgojt",
        "colab_type": "code",
        "colab": {
          "base_uri": "https://localhost:8080/",
          "height": 350
        },
        "outputId": "ca080156-6812-4a65-ef61-2372e590ebfc"
      },
      "source": [
        "df['year'] = df.ListingCreationDate.str.split('-').str[0]\n",
        "\n",
        "box = sb.boxplot(data=df, x='year', y='BorrowerRate', hue='IsBorrowerHomeowner');\n",
        "plt.title('Box plot Brrow rate of ListingCreationDate based on year ')\n",
        "plt.xlabel('year')\n",
        "plt.ylabel('Borrow rate')\n",
        "box.figure.set_figwidth(15)\n",
        "box.figure.set_figheight(5)"
      ],
      "execution_count": null,
      "outputs": [
        {
          "output_type": "display_data",
          "data": {
            "image/png": "[encoded data removed]",
            "text/plain": [
              "<Figure size 1080x360 with 1 Axes>"
            ]
          },
          "metadata": {
            "tags": [],
            "needs_background": "light"
          }
        }
      ]
    },
    {
      "cell_type": "markdown",
      "metadata": {
        "id": "WiC4PTdzg7q4",
        "colab_type": "text"
      },
      "source": [
        "In above figure, you can see box plot of borrow rate in terms of year. you can \n",
        "\n",
        "\n",
        "compare if they had home by their own or not."
      ]
    },
    {
      "cell_type": "markdown",
      "metadata": {
        "id": "vCfrWBOpppxP",
        "colab_type": "text"
      },
      "source": [
        "**BorrowerRate and AvailableBankcardCredit**"
      ]
    },
    {
      "cell_type": "code",
      "metadata": {
        "id": "6ZxNXeuQsJFx",
        "colab_type": "code",
        "colab": {
          "base_uri": "https://localhost:8080/",
          "height": 295
        },
        "outputId": "8695e2b5-a4b0-45eb-c308-33df01016ad3"
      },
      "source": [
        "# remove the null values\n",
        "df2= df.loc[df.AvailableBankcardCredit.notnull()]\n",
        "plt.hist2d(data=df2, x='AvailableBankcardCredit', y='BorrowerRate', cmap = 'plasma_r', cmin = 0.5);\n",
        "plt.colorbar()\n",
        "plt.xlabel('Available Bank Credit')\n",
        "plt.ylabel('BorrowerRate')\n",
        "plt.title('Available Bankcard Credit regarding to Borrower Rate');"
      ],
      "execution_count": null,
      "outputs": [
        {
          "output_type": "display_data",
          "data": {
            "image/png": "[encoded data removed]",
            "text/plain": [
              "<Figure size 432x288 with 2 Axes>"
            ]
          },
          "metadata": {
            "tags": [],
            "needs_background": "light"
          }
        }
      ]
    },
    {
      "cell_type": "markdown",
      "metadata": {
        "id": "ffmY3PDUwLea",
        "colab_type": "text"
      },
      "source": [
        "**Insight**: Dose AvailableBankcardCredit affect on BorrowerRate and getting amount of loan? You can see in above image range of BorowerRate is very wide for having less available bank credit, having higher bank credit causes small range of Borrower Rate which is very low."
      ]
    },
    {
      "cell_type": "markdown",
      "metadata": {
        "id": "V7NADnzLYwd_",
        "colab_type": "text"
      },
      "source": [
        "**Loan Originial Amount**"
      ]
    },
    {
      "cell_type": "code",
      "metadata": {
        "id": "D9jq_cpCwMMd",
        "colab_type": "code",
        "colab": {
          "base_uri": "https://localhost:8080/",
          "height": 731
        },
        "outputId": "5df525c1-7cba-47f5-c022-497adba3d59b"
      },
      "source": [
        "f = plt.figure(figsize=(16, 10));\n",
        "value_s = ['LoanStatus', 'ClosedDate', 'ListingCreationDate', 'BorrowerAPR',\t'BorrowerRate', 'LenderYield', 'CreditScoreRangeUpper', 'OpenCreditLines' , 'StatedMonthlyIncome', 'DebtToIncomeRatio', 'LoanOriginalAmount','MonthlyLoanPayment']\n",
        "sb.heatmap(df[value_s].corr(), annot=True);\n",
        "plt.title('Correlation between some of variable of dataset');\n",
        "plt.xlabel('Variables')\n",
        "plt.ylabel('Variables')\n",
        "plt.show();"
      ],
      "execution_count": null,
      "outputs": [
        {
          "output_type": "display_data",
          "data": {
            "image/png": "[encoded data removed]",
            "text/plain": [
              "<Figure size 1152x720 with 2 Axes>"
            ]
          },
          "metadata": {
            "tags": [],
            "needs_background": "light"
          }
        }
      ]
    },
    {
      "cell_type": "markdown",
      "metadata": {
        "id": "OtnnTma9Rkl7",
        "colab_type": "text"
      },
      "source": [
        "**Insight**: What is affected on Loan Originial Amount?\n",
        "Credit Scot=re Range Upper and Open Credit Lines have more relationship with Loan orginal amount."
      ]
    }
  ]
}
